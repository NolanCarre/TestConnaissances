{
 "cells": [
  {
   "cell_type": "markdown",
   "metadata": {},
   "source": [
    "# <font color='blue'>**TP TEST DE CONNAISSANCES**</font>"
   ]
  },
  {
   "cell_type": "markdown",
   "metadata": {},
   "source": [
    "# Importation des packages"
   ]
  },
  {
   "cell_type": "code",
   "execution_count": 53,
   "metadata": {},
   "outputs": [],
   "source": [
    "from pyspark.sql import SparkSession\n",
    "from pyspark.sql import functions as F"
   ]
  },
  {
   "cell_type": "markdown",
   "metadata": {},
   "source": [
    "# 1) Instanciation de SparkSession"
   ]
  },
  {
   "cell_type": "code",
   "execution_count": 57,
   "metadata": {},
   "outputs": [],
   "source": [
    "Spark = SparkSession.builder.master(\"local\").appName(\"TestConnaissances\").getOrCreate()"
   ]
  },
  {
   "cell_type": "markdown",
   "metadata": {},
   "source": [
    "# Question 0 : Créations des dataframes "
   ]
  },
  {
   "cell_type": "code",
   "execution_count": 56,
   "metadata": {},
   "outputs": [
    {
     "name": "stdout",
     "output_type": "stream",
     "text": [
      "+----+--------------------+-----------+\n",
      "| bid|               title|   category|\n",
      "+----+--------------------+-----------+\n",
      "|0001|L'existentialisme...|Philosophie|\n",
      "|0002|Huis clos. Suivi ...|Philosophie|\n",
      "|0003|Mignonne allons v...|      Poeme|\n",
      "|0004|          Les Amours|      Poeme|\n",
      "+----+--------------------+-----------+\n",
      "\n"
     ]
    }
   ],
   "source": [
    "l1 = [(\"0001\",\"L'existentialisme est un humanisme\",\"Philosophie\"),(\"0002\",\"Huis clos. Suivi de Les Mouches\",\"Philosophie\"),(\"0003\",\"Mignonne allons voir si la rose\",\"Poeme\"), (\"0004\",\"Les Amours\",\"Poeme\")]\n",
    "RDD1 = Spark.sparkContext.parallelize(l1) #Créé un RDD\n",
    "\n",
    "book = RDD1.toDF([\"bid\",\"title\",\"category\"])\n",
    "book.createOrReplaceTempView(\"bookSQL\")\n",
    "book.show()"
   ]
  },
  {
   "cell_type": "code",
   "execution_count": 4,
   "metadata": {},
   "outputs": [
    {
     "name": "stdout",
     "output_type": "stream",
     "text": [
      "+---+-----+---------+\n",
      "|sid|sname|     dept|\n",
      "+---+-----+---------+\n",
      "|S15| toto|     Math|\n",
      "|S16| popo|      Eco|\n",
      "|S17| fofo|Mecanique|\n",
      "+---+-----+---------+\n",
      "\n"
     ]
    }
   ],
   "source": [
    "l2 = [(\"S15\",\"toto\",\"Math\"),(\"S16\",\"popo\",\"Eco\"),(\"S17\",\"fofo\",\"Mecanique\")]\n",
    "RDD2 = Spark.sparkContext.parallelize(l2) #Créé un RDD\n",
    "\n",
    "Student = RDD2.toDF([\"sid\",\"sname\",\"dept\"])\n",
    "Student.createOrReplaceTempView(\"StudentSQL\")\n",
    "Student.show()"
   ]
  },
  {
   "cell_type": "code",
   "execution_count": 5,
   "metadata": {},
   "outputs": [
    {
     "name": "stdout",
     "output_type": "stream",
     "text": [
      "+-----+----+\n",
      "|  aid| bid|\n",
      "+-----+----+\n",
      "|07890|0001|\n",
      "|07890|0002|\n",
      "|05678|0003|\n",
      "|05678|0003|\n",
      "+-----+----+\n",
      "\n"
     ]
    }
   ],
   "source": [
    "l3 = [(\"07890\",\"0001\"),(\"07890\",\"0002\"),(\"05678\",\"0003\"), (\"05678\",\"0003\")]\n",
    "RDD3 = Spark.sparkContext.parallelize(l3) #Créé un RDD\n",
    "\n",
    "write = RDD3.toDF([\"aid\",\"bid\"])\n",
    "write.createOrReplaceTempView(\"writeSQL\")\n",
    "write.show()"
   ]
  },
  {
   "cell_type": "code",
   "execution_count": 6,
   "metadata": {},
   "outputs": [
    {
     "name": "stdout",
     "output_type": "stream",
     "text": [
      "+-----+-----------------+\n",
      "|  aid|             name|\n",
      "+-----+-----------------+\n",
      "|07890| Jean Paul Sartre|\n",
      "|05678|Pierre de Ronsard|\n",
      "+-----+-----------------+\n",
      "\n"
     ]
    }
   ],
   "source": [
    "l4 = [(\"07890\",\"Jean Paul Sartre\"), (\"05678\",\"Pierre de Ronsard\")]\n",
    "RDD4 = Spark.sparkContext.parallelize(l4) #Créé un RDD\n",
    "\n",
    "Author = RDD4.toDF([\"aid\",\"name\"])\n",
    "Author.createOrReplaceTempView(\"AuthorSQL\")\n",
    "Author.show()"
   ]
  },
  {
   "cell_type": "code",
   "execution_count": 37,
   "metadata": {},
   "outputs": [
    {
     "name": "stdout",
     "output_type": "stream",
     "text": [
      "+---+----+-------------+-----------+\n",
      "|sid| bid|checkout_time|return_time|\n",
      "+---+----+-------------+-----------+\n",
      "|S15|0003|   2020-01-02| 2020-02-01|\n",
      "|S15|0002|   2020-06-13|       null|\n",
      "|S15|0001|   2020-06-13| 2020-10-13|\n",
      "|S16|0002|   2020-01-24| 2020-01-24|\n",
      "|S17|0001|   2020-04-24| 2020-07-24|\n",
      "+---+----+-------------+-----------+\n",
      "\n"
     ]
    }
   ],
   "source": [
    "l5 = [(\"S15\",\"0003\",\"2020-01-02\",\"2020-02-01\"), (\"S15\",\"0002\",\"2020-06-13\",\"null\"), (\"S15\",\"0001\",\"2020-06-13\",\"2020-10-13\"), (\"S16\",\"0002\",\"2020-01-24\",\"2020-01-24\"), (\"S17\",\"0001\",\"2020-04-24\",\"2020-07-24\")]\n",
    "RDD5 = Spark.sparkContext.parallelize(l5) #Créé un RDD\n",
    "\n",
    "borrow = RDD5.toDF([\"sid\",\"bid\",\"checkout_time\",\"return_time\"])\n",
    "borrow.createOrReplaceTempView(\"borrowSQL\")\n",
    "borrow.show()"
   ]
  },
  {
   "cell_type": "markdown",
   "metadata": {},
   "source": [
    "# Question 1 : Trouvons les titres de tous les livres que l'étudiant sid='S15' a emprunté."
   ]
  },
  {
   "cell_type": "code",
   "execution_count": 8,
   "metadata": {},
   "outputs": [
    {
     "name": "stdout",
     "output_type": "stream",
     "text": [
      "+-----+---+--------------------+\n",
      "|sname|sid|               title|\n",
      "+-----+---+--------------------+\n",
      "| toto|S15|Huis clos. Suivi ...|\n",
      "| toto|S15|Mignonne allons v...|\n",
      "| toto|S15|L'existentialisme...|\n",
      "+-----+---+--------------------+\n",
      "\n"
     ]
    }
   ],
   "source": [
    "#DSL\n",
    "borrow.join(Student,['sid'])\\\n",
    "    .join(book,['bid'])\\\n",
    "    .filter((F.col(\"sid\") == \"S15\"))\\\n",
    "    .select(\"sname\",\"sid\",\"title\")\\\n",
    "    .show()"
   ]
  },
  {
   "cell_type": "code",
   "execution_count": 9,
   "metadata": {},
   "outputs": [
    {
     "name": "stdout",
     "output_type": "stream",
     "text": [
      "+-----+---+--------------------+\n",
      "|sname|sid|               title|\n",
      "+-----+---+--------------------+\n",
      "| toto|S15|L'existentialisme...|\n",
      "| toto|S15|Mignonne allons v...|\n",
      "| toto|S15|Huis clos. Suivi ...|\n",
      "+-----+---+--------------------+\n",
      "\n"
     ]
    }
   ],
   "source": [
    "#SQL\n",
    "Spark.sql(''' select S.sname, S.sid, b.title\n",
    "              from borrowSQL as br join StudentSQL as S on br.sid=S.sid \n",
    "              join bookSQL as b on b.bid = br.bid\n",
    "              where S.sid = \"S15\" \n",
    "              group by S.sname, S.sid, b.title          \n",
    "              ''').show()"
   ]
  },
  {
   "cell_type": "markdown",
   "metadata": {},
   "source": [
    "# Question 2 : Trouvons les titres de tous les livres qui n'ont jamais été empruntés par un étudiant"
   ]
  },
  {
   "cell_type": "code",
   "execution_count": 10,
   "metadata": {},
   "outputs": [
    {
     "name": "stdout",
     "output_type": "stream",
     "text": [
      "+----+----+----------+\n",
      "| bid| bid|     title|\n",
      "+----+----+----------+\n",
      "|0004|null|Les Amours|\n",
      "+----+----+----------+\n",
      "\n"
     ]
    }
   ],
   "source": [
    "#SQL\n",
    "Spark.sql(''' select b.bid,br.bid,b.title\n",
    "              from bookSQL as b Full Join borrowSQL as br on b.bid = br.bid \n",
    "              where br.bid is null\n",
    "              ''').show()"
   ]
  },
  {
   "cell_type": "code",
   "execution_count": 11,
   "metadata": {},
   "outputs": [
    {
     "name": "stdout",
     "output_type": "stream",
     "text": [
      "+----+----------+\n",
      "| bid|     title|\n",
      "+----+----------+\n",
      "|0004|Les Amours|\n",
      "+----+----------+\n",
      "\n"
     ]
    }
   ],
   "source": [
    "#DSL\n",
    "book.join(borrow,['bid'],\"left_anti\")\\\n",
    "    .select(\"bid\",\"title\")\\\n",
    "    .show()"
   ]
  },
  {
   "cell_type": "markdown",
   "metadata": {},
   "source": [
    "# Question 3 : Trouvons tous les étudiants qui ont emprunté le livre bid=’0002’"
   ]
  },
  {
   "cell_type": "code",
   "execution_count": 12,
   "metadata": {},
   "outputs": [
    {
     "name": "stdout",
     "output_type": "stream",
     "text": [
      "+-----+----+\n",
      "|sname| bid|\n",
      "+-----+----+\n",
      "| popo|0002|\n",
      "| toto|0002|\n",
      "+-----+----+\n",
      "\n"
     ]
    }
   ],
   "source": [
    "#DSL\n",
    "borrow.join(Student,['sid'])\\\n",
    "    .filter((F.col(\"bid\") == \"0002\"))\\\n",
    "    .select(\"sname\",\"bid\")\\\n",
    "    .show()"
   ]
  },
  {
   "cell_type": "code",
   "execution_count": 13,
   "metadata": {},
   "outputs": [
    {
     "name": "stdout",
     "output_type": "stream",
     "text": [
      "+-----+----+\n",
      "|sname| bid|\n",
      "+-----+----+\n",
      "| popo|0002|\n",
      "| toto|0002|\n",
      "+-----+----+\n",
      "\n"
     ]
    }
   ],
   "source": [
    "#SQL\n",
    "Spark.sql(''' select S.sname, br.bid\n",
    "              from borrowSQL as br join StudentSQL as S on br.sid=S.sid \n",
    "              join bookSQL as b on b.bid = br.bid\n",
    "              where br.bid = \"0002\"        \n",
    "              ''').show()"
   ]
  },
  {
   "cell_type": "markdown",
   "metadata": {},
   "source": [
    "# Question 4 : Trouvons les titres de tous les livres empruntés par des étudiants en Mécanique "
   ]
  },
  {
   "cell_type": "code",
   "execution_count": 14,
   "metadata": {},
   "outputs": [
    {
     "name": "stdout",
     "output_type": "stream",
     "text": [
      "+--------------------+---------+\n",
      "|               title|     dept|\n",
      "+--------------------+---------+\n",
      "|L'existentialisme...|Mecanique|\n",
      "+--------------------+---------+\n",
      "\n"
     ]
    }
   ],
   "source": [
    "#DSL\n",
    "#On laisse dept dans l'affichage comme preuve\n",
    "borrow.join(Student,['sid'])\\\n",
    "    .join(book,['bid'])\\\n",
    "    .filter((F.col(\"dept\") == \"Mecanique\"))\\\n",
    "    .select(\"title\", \"dept\")\\\n",
    "    .distinct()\\\n",
    "    .show()"
   ]
  },
  {
   "cell_type": "code",
   "execution_count": 15,
   "metadata": {},
   "outputs": [
    {
     "name": "stdout",
     "output_type": "stream",
     "text": [
      "+--------------------+---------+\n",
      "|               title|     dept|\n",
      "+--------------------+---------+\n",
      "|L'existentialisme...|Mecanique|\n",
      "+--------------------+---------+\n",
      "\n"
     ]
    }
   ],
   "source": [
    "#SQL\n",
    "#On laisse dept dans l'affichage comme preuve\n",
    "Spark.sql(''' select distinct b.title, S.dept\n",
    "              from borrowSQL as br join StudentSQL as S on br.sid=S.sid \n",
    "              join bookSQL as b on b.bid = br.bid\n",
    "              where S.dept ='Mecanique'        \n",
    "              ''').show()"
   ]
  },
  {
   "cell_type": "markdown",
   "metadata": {},
   "source": [
    "# Question 5 : Trouvons les étudiants qui n’ont jamais emprunté de livre."
   ]
  },
  {
   "cell_type": "code",
   "execution_count": 16,
   "metadata": {},
   "outputs": [
    {
     "name": "stdout",
     "output_type": "stream",
     "text": [
      "+-----+\n",
      "|sname|\n",
      "+-----+\n",
      "+-----+\n",
      "\n"
     ]
    }
   ],
   "source": [
    "#DSL\n",
    "Student.join(borrow,['sid'],\"left_anti\")\\\n",
    "    .select(\"sname\")\\\n",
    "    .show()"
   ]
  },
  {
   "cell_type": "code",
   "execution_count": 17,
   "metadata": {},
   "outputs": [
    {
     "name": "stdout",
     "output_type": "stream",
     "text": [
      "+-----+\n",
      "|sname|\n",
      "+-----+\n",
      "+-----+\n",
      "\n"
     ]
    }
   ],
   "source": [
    "#SQL\n",
    "Spark.sql(''' select S.sname\n",
    "              from borrowSQL as br Full Join StudentSQL as S on br.sid = S.sid \n",
    "              where S.sname is null\n",
    "              ''').show()"
   ]
  },
  {
   "cell_type": "markdown",
   "metadata": {},
   "source": [
    "# Question 6 : Déterminer l’auteur qui a écrit le plus de livres"
   ]
  },
  {
   "cell_type": "code",
   "execution_count": 18,
   "metadata": {},
   "outputs": [
    {
     "name": "stdout",
     "output_type": "stream",
     "text": [
      "+----------------+--------+\n",
      "|            name|nb_vente|\n",
      "+----------------+--------+\n",
      "|Jean Paul Sartre|       4|\n",
      "+----------------+--------+\n",
      "only showing top 1 row\n",
      "\n"
     ]
    }
   ],
   "source": [
    "#SQL\n",
    "#Récuperer les noms puis compter\n",
    "Spark.sql(''' select A.name, count(*) as nb_vente\n",
    "              from writeSQL as W Inner Join borrowSQL as br on W.bid = br.bid\n",
    "              Inner Join AuthorSQL as A on W.aid = A.aid\n",
    "              group by A.name\n",
    "              order by nb_vente desc \n",
    "              ''').show(1)"
   ]
  },
  {
   "cell_type": "code",
   "execution_count": 19,
   "metadata": {},
   "outputs": [
    {
     "name": "stdout",
     "output_type": "stream",
     "text": [
      "+----------------+--------+\n",
      "|            name|nb_vente|\n",
      "+----------------+--------+\n",
      "|Jean Paul Sartre|       4|\n",
      "+----------------+--------+\n",
      "only showing top 1 row\n",
      "\n"
     ]
    }
   ],
   "source": [
    "### DSL\n",
    "write.join(borrow,['bid'],\"inner\")\\\n",
    "    .join(Author,['aid'],\"inner\")\\\n",
    "    .groupBy(F.col(\"name\")) \\\n",
    "    .agg(F.count(\"*\").alias(\"nb_vente\")) \\\n",
    "    .orderBy(F.col(\"nb_vente\"), ascending = False)\\\n",
    "    .show(1)\n"
   ]
  },
  {
   "cell_type": "markdown",
   "metadata": {},
   "source": [
    "# Question 7 : Déterminons les personnes qui n’ont pas encore rendu les livres."
   ]
  },
  {
   "cell_type": "code",
   "execution_count": 20,
   "metadata": {},
   "outputs": [
    {
     "name": "stdout",
     "output_type": "stream",
     "text": [
      "+-----+\n",
      "|sname|\n",
      "+-----+\n",
      "| toto|\n",
      "+-----+\n",
      "\n"
     ]
    }
   ],
   "source": [
    "#SQL\n",
    "Spark.sql(''' select S.sname\n",
    "              from borrowSQL as br join StudentSQL as S on br.sid=S.sid \n",
    "              where br.return_time = \"null\"        \n",
    "              ''').show()"
   ]
  },
  {
   "cell_type": "code",
   "execution_count": 21,
   "metadata": {},
   "outputs": [
    {
     "name": "stdout",
     "output_type": "stream",
     "text": [
      "+-----+\n",
      "|sname|\n",
      "+-----+\n",
      "| toto|\n",
      "+-----+\n",
      "\n"
     ]
    }
   ],
   "source": [
    "#DSL\n",
    "Student.join(borrow,['sid'])\\\n",
    "    .filter(F.col(\"return_time\") == \"null\")\\\n",
    "    .select(\"sname\")\\\n",
    "    .show()"
   ]
  },
  {
   "cell_type": "markdown",
   "metadata": {},
   "source": [
    "# Question 8 : Créons une nouvelle colonne dans la table borrow qui prend la valeur 1, si la durée d'emprunt est supérieur à 3 mois, sinon 0. "
   ]
  },
  {
   "cell_type": "code",
   "execution_count": 39,
   "metadata": {},
   "outputs": [
    {
     "name": "stdout",
     "output_type": "stream",
     "text": [
      "+---+----+-------------+-----------+--------------+\n",
      "|sid| bid|checkout_time|return_time|morethan3month|\n",
      "+---+----+-------------+-----------+--------------+\n",
      "|S15|0003|   2020-01-02| 2020-02-01|             0|\n",
      "|S15|0002|   2020-06-13|       null|             1|\n",
      "|S15|0001|   2020-06-13| 2020-10-13|             1|\n",
      "|S16|0002|   2020-01-24| 2020-01-24|             0|\n",
      "|S17|0001|   2020-04-24| 2020-07-24|             1|\n",
      "+---+----+-------------+-----------+--------------+\n",
      "\n"
     ]
    }
   ],
   "source": [
    "#SQL\n",
    "#On compare par rapport au jour actuel pour les livres non rendus\n",
    "Spark.sql(''' select sid, bid, checkout_time, return_time,\n",
    "            case  \n",
    "                  when datediff(return_time, checkout_time) < 90 then 0 \n",
    "                  when datediff(return_time, checkout_time) >= 90 then 1 \n",
    "                  when datediff(return_time, checkout_time) is null then\n",
    "                      case \n",
    "                          when datediff(now(), checkout_time) < 90 then 0 else 1 \n",
    "                      end \n",
    "            end as morethan3month\n",
    "                     \n",
    "                 \n",
    "              from borrowSQL \n",
    "              ''').show()"
   ]
  },
  {
   "cell_type": "code",
   "execution_count": 78,
   "metadata": {},
   "outputs": [
    {
     "name": "stdout",
     "output_type": "stream",
     "text": [
      "+---+----+-------------+-----------+--------------+\n",
      "|sid| bid|checkout_time|return_time|morethan3month|\n",
      "+---+----+-------------+-----------+--------------+\n",
      "|S15|0003|   2020-01-02| 2020-02-01|             0|\n",
      "|S15|0002|   2020-06-13|       null|             1|\n",
      "|S15|0001|   2020-06-13| 2020-10-13|             1|\n",
      "|S16|0002|   2020-01-24| 2020-01-24|             0|\n",
      "|S17|0001|   2020-04-24| 2020-07-24|             1|\n",
      "+---+----+-------------+-----------+--------------+\n",
      "\n"
     ]
    }
   ],
   "source": [
    "Export = borrow.withColumn(\"morethan3month\", F.when(F.datediff(F.col(\"return_time\"), F.col(\"checkout_time\")) < 90,0) \n",
    "                  .when(F.datediff(F.col(\"return_time\"), F.col(\"checkout_time\")) > 90,1)\n",
    "                  .when(F.col(\"return_time\") == \"null\" ,\n",
    "                        F.when(F.datediff(F.current_date(), F.col(\"checkout_time\")) < 90,0)\n",
    "                        .otherwise(1)))\\\n",
    "      .select(\"sid\",\"bid\",\"checkout_time\",\"return_time\",\"morethan3month\")\n",
    "Export.show()"
   ]
  },
  {
   "cell_type": "markdown",
   "metadata": {},
   "source": [
    "## Exportation"
   ]
  },
  {
   "cell_type": "code",
   "execution_count": 86,
   "metadata": {},
   "outputs": [],
   "source": [
    "Export.write.format(\"csv\").save(\"contention\") # Exportation à ne lancer qu'une fois\n",
    "# A chaque execution de cette ligne, le dossier nommé exported doit être supprimé."
   ]
  },
  {
   "cell_type": "markdown",
   "metadata": {},
   "source": [
    "<font color='green'>***Merci et bonne continuation***</font>"
   ]
  }
 ],
 "metadata": {
  "kernelspec": {
   "display_name": "Python 3",
   "language": "python",
   "name": "python3"
  },
  "language_info": {
   "codemirror_mode": {
    "name": "ipython",
    "version": 3
   },
   "file_extension": ".py",
   "mimetype": "text/x-python",
   "name": "python",
   "nbconvert_exporter": "python",
   "pygments_lexer": "ipython3",
   "version": "3.8.5"
  }
 },
 "nbformat": 4,
 "nbformat_minor": 4
}
